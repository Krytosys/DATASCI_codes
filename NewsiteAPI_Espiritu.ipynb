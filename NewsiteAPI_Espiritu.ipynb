{
 "cells": [
  {
   "cell_type": "markdown",
   "id": "honest-dragon",
   "metadata": {},
   "source": [
    "## Import newsapi"
   ]
  },
  {
   "cell_type": "code",
   "execution_count": 1,
   "id": "ancient-maryland",
   "metadata": {},
   "outputs": [],
   "source": [
    "from newsapi import NewsApiClient"
   ]
  },
  {
   "cell_type": "markdown",
   "id": "limiting-replication",
   "metadata": {},
   "source": [
    "## Use API key given:"
   ]
  },
  {
   "cell_type": "code",
   "execution_count": 3,
   "id": "medium-gazette",
   "metadata": {},
   "outputs": [],
   "source": [
    "newsapi = NewsApiClient(api_key = 'a9f1658ce7064c42a6531c7d9f983ad8')"
   ]
  },
  {
   "cell_type": "markdown",
   "id": "activated-beginning",
   "metadata": {},
   "source": [
    "## Get all data given the parameters needed"
   ]
  },
  {
   "cell_type": "code",
   "execution_count": 10,
   "id": "pleased-heart",
   "metadata": {},
   "outputs": [
    {
     "name": "stdout",
     "output_type": "stream",
     "text": [
      "{'status': 'ok', 'totalResults': 52, 'articles': [{'source': {'id': None, 'name': 'BBC News'}, 'author': 'Bbc News', 'title': 'Mississippi bans trans girls from school sports', 'description': 'The measure, banning transgender athletes in schools, is the first anti-trans law of 2021, activists say.', 'url': 'https://www.bbc.com/news/world-us-canada-56275274', 'urlToImage': 'https://ichef.bbci.co.uk/news/1024/branded_news/A3E1/production/_117535914_gettyimages-1223659575.jpg', 'publishedAt': '2021-03-12T23:40:08Z', 'content': \"image copyrightGetty Images\\r\\nimage captionMississippi Republican Governor Tate Reeves\\r\\nMississippi's governor has signed a law banning transgender athletes from competing in girls' sports at school.\\r… [+5054 chars]\"}, {'source': {'id': None, 'name': 'BBC News'}, 'author': 'https://www.facebook.com/bbcnews', 'title': \"Newspaper headlines: Vigils 'to defy' ban and Easter jabs for over-40s\", 'description': \"Developments in Sarah Everard's murder case and the planned vigils are carried in Saturday's papers.\", 'url': 'https://www.bbc.com/news/blogs-the-papers-56382348', 'urlToImage': 'https://ichef.bbci.co.uk/news/1024/branded_news/E8E0/production/_117561695_index-nc.png', 'publishedAt': '2021-03-12T23:31:33Z', 'content': 'Watch the latest episode\\r\\nThe BBC News Channels press review every evening at 22:40 weekdays, 22:30 and 23:30 weekends and via the BBC iPlayer'}, {'source': {'id': None, 'name': 'BBC News'}, 'author': 'Bbc News', 'title': \"Amazon will not sell books that 'frame sexual identity as mental illness'\", 'description': 'The retail giant removes a conservative book about gender dysphoria for violating its guidelines.', 'url': 'https://www.bbc.com/news/world-us-canada-56381862', 'urlToImage': 'https://ichef.bbci.co.uk/news/1024/branded_news/12954/production/_117561167_gettyimages-1231517310.jpg', 'publishedAt': '2021-03-12T22:26:09Z', 'content': 'image copyrightGetty Images\\r\\nimage captionAmazon said it removed the publication \"for violating our guidelines\"\\r\\nAmazon has said that it will not sell books that frame gender or sexual identities as … [+2402 chars]'}, {'source': {'id': None, 'name': 'BBC News'}, 'author': 'Bbc News', 'title': 'Sarah Everard: Met Police officer charged with murder', 'description': 'Wayne Couzens is accused of kidnapping and murdering the 33-year-old who was last seen in south London.', 'url': 'https://www.bbc.com/news/uk-england-london-56331948', 'urlToImage': 'https://ichef.bbci.co.uk/news/1024/branded_news/7F9A/production/_117466623_b215a3e4-77f1-470a-b459-512b824e1a1d.jpg', 'publishedAt': '2021-03-12T21:21:03Z', 'content': 'image captionSarah Everard has been described as \"beautiful, thoughtful and incredibly kind\"\\r\\nA serving Met Police officer has been charged with the kidnap and murder of Sarah Everard, who disappeare… [+2343 chars]'}, {'source': {'id': None, 'name': 'BBC News'}, 'author': 'Bbc News', 'title': 'Minneapolis to pay Floyd family $27m', 'description': 'The settlement comes as jury selection resumes for the murder trial of ex-officer Derek Chauvin', 'url': 'https://www.bbc.com/news/world-us-canada-56381722', 'urlToImage': 'https://ichef.bbci.co.uk/news/1024/branded_news/345E/production/_117560431_floyd.jpg', 'publishedAt': '2021-03-12T19:33:52Z', 'content': 'image captionGeorge Floyd said he could not breathe more than 20 times before he died\\r\\nThe city of Minneapolis has reached a $27m settlement with the family of George Floyd, an unarmed black man who … [+752 chars]'}, {'source': {'id': None, 'name': 'BBC News'}, 'author': 'https://www.facebook.com/bbcnews', 'title': 'Cuomo: New York governor defiant as more Democrats tell him to quit - BBC News', 'description': \"<ol><li>Cuomo: New York governor defiant as more Democrats tell him to quit\\xa0\\xa0BBC News\\r\\n</li><li>Resignation demands grow as police get Cuomo groping report\\xa0\\xa0CTV News\\r\\n</li><li>New York Gov. Andrew Cuomo says he won't resign despite calls from state, federal D…\", 'url': 'https://www.bbc.com/news/world-us-canada-56367991', 'urlToImage': 'https://ichef.bbci.co.uk/news/1024/branded_news/12A7E/production/_117541467_mediaitem117541466.jpg', 'publishedAt': '2021-03-12T18:36:22Z', 'content': 'image copyrightTom Williams\\r\\nimage captionAlexandria Ocasio-Cortez is one of the latest New York politicians urging the governor to quit\\r\\nAndrew Cuomo has insisted he will not heed calls to quit as N… [+3394 chars]'}, {'source': {'id': None, 'name': 'BBC News'}, 'author': 'Bbc News', 'title': 'Duchess of Sussex has complained to Ofcom over Piers Morgan comments', 'description': 'The broadcast regulator confirms the duchess objected to comments made by Piers Morgan on Monday.', 'url': 'https://www.bbc.com/news/entertainment-arts-56379830', 'urlToImage': 'https://ichef.bbci.co.uk/news/1024/branded_news/4E67/production/_117517002_margaretcomp.jpg', 'publishedAt': '2021-03-12T18:33:06Z', 'content': 'image copyrightGetty Images\\r\\nimage captionMorgan said he \"didn\\'t believe a word\" the duchess had said in her interview with Oprah\\r\\nThe Duchess of Sussex has complained to Ofcom about Piers Morgan\\'s c… [+2537 chars]'}, {'source': {'id': None, 'name': 'BBC News'}, 'author': 'Bbc News', 'title': \"Scientists unlock mysteries of world's oldest 'computer'\", 'description': 'The 2,000-year-old mechanism has baffled experts since it was discovered on a shipwreck in 1901.', 'url': 'https://www.bbc.com/news/science-environment-56377567', 'urlToImage': 'https://ichef.bbci.co.uk/news/1024/branded_news/15ED7/production/_117551898_explodedcosmosmodel8x5.jpg', 'publishedAt': '2021-03-12T18:06:13Z', 'content': 'image copyrightProf Tony Freeth / UCL\\r\\nimage captionScientists used computer modelling to recreate the device\\'s complex gear system\\r\\nA 2,000-year-old device often referred to as the world\\'s oldest \"c… [+1986 chars]'}, {'source': {'id': None, 'name': 'BBC News'}, 'author': 'https://www.facebook.com/bbcnews', 'title': 'Uber facemask case: Woman arrested after video shared by San Francisco driver - BBC News', 'description': '<ol><li>Uber facemask case: Woman arrested after video shared by San Francisco driver\\xa0\\xa0BBC News\\r\\n</li><li>Uber passenger in viral video is arrested, another plans to turn self in, police say\\xa0\\xa0Fox News\\r\\n</li><li>Woman Arrested in San Francisco Uber Attack: Pol…', 'url': 'https://www.bbc.com/news/world-us-canada-56377252', 'urlToImage': 'https://ichef.bbci.co.uk/news/1024/branded_news/CF85/production/_117552135_hi066177778.jpg', 'publishedAt': '2021-03-12T17:17:29Z', 'content': 'image captionThe Uber driver said an \"altercation\" occurred after he asked a passenger to wear a face mask (file photo)\\r\\nA woman accused of refusing to wear a face mask in an Uber taxi and then assau… [+3083 chars]'}, {'source': {'id': None, 'name': 'BBC News'}, 'author': 'Bbc News', 'title': \"Myanmar coup: The 'battle tactics' used in crackdowns on protests\", 'description': 'Human rights group Amnesty says videos show the military are using increasingly deadly force.', 'url': 'https://www.bbc.com/news/world-asia-56373463', 'urlToImage': 'https://ichef.bbci.co.uk/news/1024/branded_news/17632/production/_117549759_gettyimages-1231490083.jpg', 'publishedAt': '2021-03-12T15:44:12Z', 'content': \"By Joshua CheethamBBC News\\r\\nimage copyrightGetty Images\\r\\nimage captionHuman rights groups are calling on Myanmar's military to end it's use of lethal force against civilians\\r\\nOn a busy street in Yang… [+4160 chars]\"}, {'source': {'id': None, 'name': 'BBC News'}, 'author': 'Bbc News', 'title': \"University of Manchester advises against using 'mother' and 'father'\", 'description': 'An MP says the University of Manchester\\'s guidance on inclusive language is \"wokery gone mad\".', 'url': 'https://www.bbc.com/news/uk-england-manchester-56372118', 'urlToImage': 'https://ichef.bbci.co.uk/news/1024/branded_news/316E/production/_117545621_uni.jpg', 'publishedAt': '2021-03-12T15:29:38Z', 'content': 'image captionThe University of Manchester has denied banning or scrapping certain words\\r\\nA university has advised staff against using the terms \"mother\" and \"father\" to avoid bias and assumption. \\r\\nT… [+2640 chars]'}, {'source': {'id': None, 'name': 'BBC News'}, 'author': 'https://www.facebook.com/bbcnews', 'title': 'YouTube deletes 30,000 vaccine misinfo videos', 'description': 'The platform says it has taken down 30,000 videos since its ban on false vaccine claims in October.', 'url': 'https://www.bbc.com/news/technology-56372184', 'urlToImage': 'https://ichef.bbci.co.uk/news/1024/branded_news/7B06/production/_117549413_gettyimages-1231664238.jpg', 'publishedAt': '2021-03-12T14:37:47Z', 'content': 'image copyrightGetty Images\\r\\nYouTube has removed more than 30,000 misleading Covid-19 vaccination videos in the past five months, it said.\\r\\nA YouTube spokeswoman said the videos contradicted vaccine … [+1991 chars]'}, {'source': {'id': None, 'name': 'BBC News'}, 'author': 'https://www.facebook.com/bbcnews', 'title': 'Boris Johnson visits Northern Ireland amid unionist tension - BBC News', 'description': '<ol><li>Boris Johnson visits Northern Ireland amid unionist tension\\xa0\\xa0BBC News\\r\\n</li><li>Britain Delays Brexit Border Checks for Goods Coming From Europe\\xa0\\xa0The New York Times\\r\\n</li><li>U.K. Firms Decry Unfair Brexit Border as EU Goods Waved In\\xa0\\xa0Bloomberg\\r\\n</li>…', 'url': 'https://www.bbc.com/news/uk-northern-ireland-56373901', 'urlToImage': 'https://ichef.bbci.co.uk/news/1024/branded_news/10CA6/production/_117547786_bj6.jpg', 'publishedAt': '2021-03-12T14:20:56Z', 'content': 'By Ali GordonBBC News NI\\r\\nimage captionFirst Minister Arlene Foster met Boris Johnson at a Covid-19 vaccination centre in Enniskillen\\r\\nSinn Féin has refused to meet Boris Johnson as the prime ministe… [+4085 chars]'}, {'source': {'id': None, 'name': 'BBC News'}, 'author': 'Bbc News', 'title': 'Coronavirus infections levelling off in some of UK', 'description': \"The UK's latest R number - 0.6 to 0.8 - suggests the outbreak is still shrinking overall.\", 'url': 'https://www.bbc.com/news/health-56374955', 'urlToImage': 'https://ichef.bbci.co.uk/news/1024/branded_news/48F2/production/_117547681_tv063838302.jpg', 'publishedAt': '2021-03-12T14:10:00Z', 'content': 'image copyrightGetty Images\\r\\nCoronavirus infections may be levelling off in some of the UK, according to data from the Office for National Statistics. \\r\\nThe figures for the week up to 6 March suggest… [+2397 chars]'}, {'source': {'id': None, 'name': 'BBC News'}, 'author': 'Bbc News', 'title': 'Sarah Everard: Human remains confirmed as those of missing woman', 'description': 'A police officer is still being questioned on suspicion of murdering the marketing executive.', 'url': 'https://www.bbc.com/news/uk-england-london-56371163', 'urlToImage': 'https://ichef.bbci.co.uk/news/1024/branded_news/D128/production/_117544535_bor2246-2021saraheverard2.jpg', 'publishedAt': '2021-03-12T13:55:32Z', 'content': 'image copyrightFamily handout\\r\\nimage captionSarah Everard has been described as \"beautiful, thoughtful and incredibly kind\"\\r\\nA body that was found during the search for Sarah Everard has been confirm… [+2772 chars]'}, {'source': {'id': None, 'name': 'BBC News'}, 'author': 'https://www.facebook.com/bbcnews', 'title': \"Covid vaccine lowers cases in Scotland's healthcare worker families - BBC News\", 'description': \"<ol><li>Covid vaccine lowers cases in Scotland's healthcare worker families\\xa0\\xa0BBC News\\r\\n</li><li>UK’s coronavirus vaccines dramatically cut transmission, new study suggests\\xa0\\xa0The Independent\\r\\n</li><li>3 vaccinated Hawaii residents tested positive for COVID-19\\xa0\\xa0…\", 'url': 'https://www.bbc.com/news/uk-scotland-56373252', 'urlToImage': 'https://ichef.bbci.co.uk/news/1024/branded_news/A39B/production/_117138814_edinburghvacc7-1_pa.jpg', 'publishedAt': '2021-03-12T13:14:15Z', 'content': \"image captionMore than 144,000 healthcare workers were monitored for the study\\r\\nVaccination of Scotland's healthcare workers has lowered the rate of infection for people they live with, according to … [+2258 chars]\"}, {'source': {'id': None, 'name': 'BBC News'}, 'author': 'https://www.facebook.com/bbcnews', 'title': \"Leon Briggs: Police and ambulance 'failures' in restraint death\", 'description': 'Leon Briggs died after being restrained in the street by police under the Mental Health Act in 2013.', 'url': 'https://www.bbc.com/news/uk-england-beds-bucks-herts-56339607', 'urlToImage': 'https://ichef.bbci.co.uk/news/1024/branded_news/E998/production/_116500895_leonbriggsedit.jpg', 'publishedAt': '2021-03-12T12:06:14Z', 'content': 'image copyrightFamily Handout\\r\\nimage captionLeon Briggs died in hospital after being restrained and detained under the Mental Health Act at Luton police station\\r\\nThe way in which police officers rest… [+1535 chars]'}, {'source': {'id': None, 'name': 'BBC News'}, 'author': 'Bbc News', 'title': 'Cat missing for 20 years spent final days with owner', 'description': 'Phoebe is found seriously ill in a field at the age of 22 but has a special reunion in her final hours.', 'url': 'https://www.bbc.com/news/uk-england-56372714', 'urlToImage': 'https://ichef.bbci.co.uk/news/1024/branded_news/11FB6/production/_117545637_phoebe2.jpg', 'publishedAt': '2021-03-12T10:33:13Z', 'content': 'image captionPhoebe was two years old when she went missing from her home in Nantwich\\r\\nA cat missing for two decades was able to spend her final hours with her owner before being put down due to the … [+1572 chars]'}, {'source': {'id': None, 'name': 'BBC News'}, 'author': 'https://www.facebook.com/bbcnews', 'title': \"Cliff Simon: Actor who played Ba'al in Stargate dies aged 58 - BBC News\", 'description': \"<ol><li>Cliff Simon: Actor who played Ba'al in Stargate dies aged 58\\xa0\\xa0BBC News\\r\\n</li><li>Cliff Simon Dies: Actor Who Played Ba’al On ‘Stargate SG-1’ Was 58\\xa0\\xa0Yahoo Entertainment\\r\\n</li><li>Stargate Actor Cliff Simon Has Passed Away At Age 58\\xa0\\xa0GateWorld.net\\r\\n</l…\", 'url': 'https://www.bbc.com/news/entertainment-arts-56371582', 'urlToImage': 'https://ichef.bbci.co.uk/news/1024/branded_news/55B8/production/_117544912_gettyimages-456886610.jpg', 'publishedAt': '2021-03-12T09:32:57Z', 'content': \"image copyrightGetty Images\\r\\nimage captionCliff Simon also had roles in NCIS, 24 and Days of Our Lives\\r\\nActor Cliff Simon, best known as the villain Ba'al on Stargate SG-1, has died aged 58, his fami… [+2334 chars]\"}, {'source': {'id': None, 'name': 'BBC News'}, 'author': 'https://www.facebook.com/bbcnews', 'title': 'Sir Tim Berners-Lee warns of widening digital divide', 'description': 'Sir Tim Berners-Lee says too many young people do not have internet access, and calls for investment.', 'url': 'https://www.bbc.com/news/technology-56367719', 'urlToImage': 'https://ichef.bbci.co.uk/news/1024/branded_news/1646C/production/_117544219_mediaitem117536749.jpg', 'publishedAt': '2021-03-12T09:18:08Z', 'content': 'Rory Cellan-JonesTechnology correspondent@BBCRoryCJon Twitter\\r\\nimage captionSir Tim invented the web in 1989\\r\\nThe creator of the web says coronavirus has highlighted the importance of internet connec… [+2743 chars]'}]}\n"
     ]
    }
   ],
   "source": [
    "\n",
    "articles = newsapi.get_everything(domains='bbc.com',\n",
    "                                 from_param=\"2021-03-11\",\n",
    "                                 to=\"2021-03-12\",\n",
    "                                 language='en')\n",
    "\n",
    "print(articles)"
   ]
  },
  {
   "cell_type": "markdown",
   "id": "jewish-iceland",
   "metadata": {},
   "source": [
    "## Convert into JSON format"
   ]
  },
  {
   "cell_type": "code",
   "execution_count": 17,
   "id": "concrete-graphics",
   "metadata": {},
   "outputs": [
    {
     "name": "stdout",
     "output_type": "stream",
     "text": [
      "[{'date': '2021-03-12T23:40:08Z', 'title': 'Mississippi bans trans girls from school sports', 'content': \"image copyrightGetty Images\\r\\nimage captionMississippi Republican Governor Tate Reeves\\r\\nMississippi's governor has signed a law banning transgender athletes from competing in girls' sports at school.\\r… [+5054 chars]\", 'author': 'Bbc News'}, {'date': '2021-03-12T23:31:33Z', 'title': \"Newspaper headlines: Vigils 'to defy' ban and Easter jabs for over-40s\", 'content': 'Watch the latest episode\\r\\nThe BBC News Channels press review every evening at 22:40 weekdays, 22:30 and 23:30 weekends and via the BBC iPlayer', 'author': 'https://www.facebook.com/bbcnews'}, {'date': '2021-03-12T22:26:09Z', 'title': \"Amazon will not sell books that 'frame sexual identity as mental illness'\", 'content': 'image copyrightGetty Images\\r\\nimage captionAmazon said it removed the publication \"for violating our guidelines\"\\r\\nAmazon has said that it will not sell books that frame gender or sexual identities as … [+2402 chars]', 'author': 'Bbc News'}, {'date': '2021-03-12T21:21:03Z', 'title': 'Sarah Everard: Met Police officer charged with murder', 'content': 'image captionSarah Everard has been described as \"beautiful, thoughtful and incredibly kind\"\\r\\nA serving Met Police officer has been charged with the kidnap and murder of Sarah Everard, who disappeare… [+2343 chars]', 'author': 'Bbc News'}, {'date': '2021-03-12T19:33:52Z', 'title': 'Minneapolis to pay Floyd family $27m', 'content': 'image captionGeorge Floyd said he could not breathe more than 20 times before he died\\r\\nThe city of Minneapolis has reached a $27m settlement with the family of George Floyd, an unarmed black man who … [+752 chars]', 'author': 'Bbc News'}, {'date': '2021-03-12T18:36:22Z', 'title': 'Cuomo: New York governor defiant as more Democrats tell him to quit - BBC News', 'content': 'image copyrightTom Williams\\r\\nimage captionAlexandria Ocasio-Cortez is one of the latest New York politicians urging the governor to quit\\r\\nAndrew Cuomo has insisted he will not heed calls to quit as N… [+3394 chars]', 'author': 'https://www.facebook.com/bbcnews'}, {'date': '2021-03-12T18:33:06Z', 'title': 'Duchess of Sussex has complained to Ofcom over Piers Morgan comments', 'content': 'image copyrightGetty Images\\r\\nimage captionMorgan said he \"didn\\'t believe a word\" the duchess had said in her interview with Oprah\\r\\nThe Duchess of Sussex has complained to Ofcom about Piers Morgan\\'s c… [+2537 chars]', 'author': 'Bbc News'}, {'date': '2021-03-12T18:06:13Z', 'title': \"Scientists unlock mysteries of world's oldest 'computer'\", 'content': 'image copyrightProf Tony Freeth / UCL\\r\\nimage captionScientists used computer modelling to recreate the device\\'s complex gear system\\r\\nA 2,000-year-old device often referred to as the world\\'s oldest \"c… [+1986 chars]', 'author': 'Bbc News'}, {'date': '2021-03-12T17:17:29Z', 'title': 'Uber facemask case: Woman arrested after video shared by San Francisco driver - BBC News', 'content': 'image captionThe Uber driver said an \"altercation\" occurred after he asked a passenger to wear a face mask (file photo)\\r\\nA woman accused of refusing to wear a face mask in an Uber taxi and then assau… [+3083 chars]', 'author': 'https://www.facebook.com/bbcnews'}, {'date': '2021-03-12T15:44:12Z', 'title': \"Myanmar coup: The 'battle tactics' used in crackdowns on protests\", 'content': \"By Joshua CheethamBBC News\\r\\nimage copyrightGetty Images\\r\\nimage captionHuman rights groups are calling on Myanmar's military to end it's use of lethal force against civilians\\r\\nOn a busy street in Yang… [+4160 chars]\", 'author': 'Bbc News'}, {'date': '2021-03-12T15:29:38Z', 'title': \"University of Manchester advises against using 'mother' and 'father'\", 'content': 'image captionThe University of Manchester has denied banning or scrapping certain words\\r\\nA university has advised staff against using the terms \"mother\" and \"father\" to avoid bias and assumption. \\r\\nT… [+2640 chars]', 'author': 'Bbc News'}, {'date': '2021-03-12T14:37:47Z', 'title': 'YouTube deletes 30,000 vaccine misinfo videos', 'content': 'image copyrightGetty Images\\r\\nYouTube has removed more than 30,000 misleading Covid-19 vaccination videos in the past five months, it said.\\r\\nA YouTube spokeswoman said the videos contradicted vaccine … [+1991 chars]', 'author': 'https://www.facebook.com/bbcnews'}, {'date': '2021-03-12T14:20:56Z', 'title': 'Boris Johnson visits Northern Ireland amid unionist tension - BBC News', 'content': 'By Ali GordonBBC News NI\\r\\nimage captionFirst Minister Arlene Foster met Boris Johnson at a Covid-19 vaccination centre in Enniskillen\\r\\nSinn Féin has refused to meet Boris Johnson as the prime ministe… [+4085 chars]', 'author': 'https://www.facebook.com/bbcnews'}, {'date': '2021-03-12T14:10:00Z', 'title': 'Coronavirus infections levelling off in some of UK', 'content': 'image copyrightGetty Images\\r\\nCoronavirus infections may be levelling off in some of the UK, according to data from the Office for National Statistics. \\r\\nThe figures for the week up to 6 March suggest… [+2397 chars]', 'author': 'Bbc News'}, {'date': '2021-03-12T13:55:32Z', 'title': 'Sarah Everard: Human remains confirmed as those of missing woman', 'content': 'image copyrightFamily handout\\r\\nimage captionSarah Everard has been described as \"beautiful, thoughtful and incredibly kind\"\\r\\nA body that was found during the search for Sarah Everard has been confirm… [+2772 chars]', 'author': 'Bbc News'}, {'date': '2021-03-12T13:14:15Z', 'title': \"Covid vaccine lowers cases in Scotland's healthcare worker families - BBC News\", 'content': \"image captionMore than 144,000 healthcare workers were monitored for the study\\r\\nVaccination of Scotland's healthcare workers has lowered the rate of infection for people they live with, according to … [+2258 chars]\", 'author': 'https://www.facebook.com/bbcnews'}, {'date': '2021-03-12T12:06:14Z', 'title': \"Leon Briggs: Police and ambulance 'failures' in restraint death\", 'content': 'image copyrightFamily Handout\\r\\nimage captionLeon Briggs died in hospital after being restrained and detained under the Mental Health Act at Luton police station\\r\\nThe way in which police officers rest… [+1535 chars]', 'author': 'https://www.facebook.com/bbcnews'}, {'date': '2021-03-12T10:33:13Z', 'title': 'Cat missing for 20 years spent final days with owner', 'content': 'image captionPhoebe was two years old when she went missing from her home in Nantwich\\r\\nA cat missing for two decades was able to spend her final hours with her owner before being put down due to the … [+1572 chars]', 'author': 'Bbc News'}, {'date': '2021-03-12T09:32:57Z', 'title': \"Cliff Simon: Actor who played Ba'al in Stargate dies aged 58 - BBC News\", 'content': \"image copyrightGetty Images\\r\\nimage captionCliff Simon also had roles in NCIS, 24 and Days of Our Lives\\r\\nActor Cliff Simon, best known as the villain Ba'al on Stargate SG-1, has died aged 58, his fami… [+2334 chars]\", 'author': 'https://www.facebook.com/bbcnews'}, {'date': '2021-03-12T09:18:08Z', 'title': 'Sir Tim Berners-Lee warns of widening digital divide', 'content': 'Rory Cellan-JonesTechnology correspondent@BBCRoryCJon Twitter\\r\\nimage captionSir Tim invented the web in 1989\\r\\nThe creator of the web says coronavirus has highlighted the importance of internet connec… [+2743 chars]', 'author': 'https://www.facebook.com/bbcnews'}]\n"
     ]
    }
   ],
   "source": [
    "news_json = []\n",
    "\n",
    "for i in articles.get('articles'):\n",
    "    \n",
    "    date=i[\"publishedAt\"]\n",
    "    title=i[\"title\"]\n",
    "    content=i[\"content\"]\n",
    "    author=i[\"author\"]\n",
    "    \n",
    "    news_json.append({\n",
    "        \"date\": date,\n",
    "        \"title\": title,\n",
    "        \"content\": content,\n",
    "        \"author\": author\n",
    "    })\n",
    "    \n",
    "print(news_json)"
   ]
  },
  {
   "cell_type": "markdown",
   "id": "educational-shannon",
   "metadata": {},
   "source": [
    "## Export into JSON"
   ]
  },
  {
   "cell_type": "code",
   "execution_count": 18,
   "id": "express-limit",
   "metadata": {},
   "outputs": [],
   "source": [
    "import json\n",
    "\n",
    "with open('NewsFrom202111to202112.json', 'w') as out:\n",
    "    json.dump(news_json, out)"
   ]
  },
  {
   "cell_type": "code",
   "execution_count": null,
   "id": "colored-humidity",
   "metadata": {},
   "outputs": [],
   "source": []
  }
 ],
 "metadata": {
  "kernelspec": {
   "display_name": "Python 3",
   "language": "python",
   "name": "python3"
  },
  "language_info": {
   "codemirror_mode": {
    "name": "ipython",
    "version": 3
   },
   "file_extension": ".py",
   "mimetype": "text/x-python",
   "name": "python",
   "nbconvert_exporter": "python",
   "pygments_lexer": "ipython3",
   "version": "3.8.4"
  }
 },
 "nbformat": 4,
 "nbformat_minor": 5
}
